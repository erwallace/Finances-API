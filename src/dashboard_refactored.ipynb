{
 "cells": [
  {
   "cell_type": "markdown",
   "source": [
    "# libraries"
   ],
   "metadata": {
    "collapsed": false
   }
  },
  {
   "cell_type": "code",
   "execution_count": 25,
   "outputs": [],
   "source": [
    "from palettes import vibrant, create_palette\n",
    "\n",
    "import plotly.io as pio\n",
    "import plotly.graph_objects as go\n",
    "\n",
    "from dash import dcc, html, dash_table, Dash, Input, Output\n",
    "import dash_bootstrap_components as dbc\n",
    "from dash.dash_table.Format import Format, Group, Scheme, Symbol\n",
    "\n",
    "from db_manager import MonthsTbl, SQL\n",
    "from dash_inputs import *\n",
    "\n",
    "import pandas as pd\n",
    "import calendar\n",
    "from datetime import datetime\n",
    "import numpy as np\n",
    "\n",
    "from jupyter_dash import JupyterDash"
   ],
   "metadata": {
    "collapsed": false,
    "ExecuteTime": {
     "start_time": "2023-08-04T12:09:50.194931Z",
     "end_time": "2023-08-04T12:09:50.290563Z"
    }
   }
  },
  {
   "cell_type": "code",
   "execution_count": 26,
   "outputs": [
    {
     "data": {
      "text/plain": "<Figure size 1400x100 with 1 Axes>",
      "image/png": "[encoded data removed]"
     },
     "metadata": {},
     "output_type": "display_data"
    }
   ],
   "source": [
    "subcategory_palette = create_palette(vibrant)\n",
    "\n",
    "\n",
    "money = Format(scheme=Scheme.fixed, precision=2,\n",
    "               group=Group.yes, groups=3, group_delimiter=',',\n",
    "               symbol=Symbol.yes, symbol_prefix=u'£')"
   ],
   "metadata": {
    "collapsed": false,
    "ExecuteTime": {
     "start_time": "2023-08-04T12:09:50.198108Z",
     "end_time": "2023-08-04T12:09:50.390257Z"
    }
   }
  },
  {
   "cell_type": "markdown",
   "source": [
    "# MONTHLY DASHBOARD"
   ],
   "metadata": {
    "collapsed": false
   }
  },
  {
   "cell_type": "markdown",
   "source": [
    "## 1. TITLE AND MONTH SELECTION"
   ],
   "metadata": {
    "collapsed": false
   }
  },
  {
   "cell_type": "code",
   "execution_count": 27,
   "outputs": [],
   "source": [
    "def monthly_title():\n",
    "\n",
    "    db = SQL()\n",
    "\n",
    "    table = Table(MonthsTbl.__tablename__, MonthsTbl.metadata)\n",
    "    with db.engine.connect() as conn:\n",
    "        df = pd.read_sql(sql=select(table), con=conn)\n",
    "    months = df.sort_values('Date', ascending=False).id.unique()\n",
    "\n",
    "    return html.Div([\n",
    "        html.H1(id='month_title',\n",
    "                children='Monthly Spending'),\n",
    "        dcc.Dropdown(id='month_selection',\n",
    "                     options=months,\n",
    "                     # placeholder=\"Select a month\",\n",
    "                     value=months[0]\n",
    "                     )\n",
    "    ])"
   ],
   "metadata": {
    "collapsed": false,
    "ExecuteTime": {
     "start_time": "2023-08-04T12:09:50.258028Z",
     "end_time": "2023-08-04T12:09:50.390903Z"
    }
   }
  },
  {
   "cell_type": "markdown",
   "source": [
    "## 2. INCOME SUMMARY"
   ],
   "metadata": {
    "collapsed": false
   }
  },
  {
   "cell_type": "code",
   "execution_count": 28,
   "outputs": [],
   "source": [
    "def income_summary():\n",
    "    return dcc.Graph(id='income', figure={})"
   ],
   "metadata": {
    "collapsed": false,
    "ExecuteTime": {
     "start_time": "2023-08-04T12:09:50.260394Z",
     "end_time": "2023-08-04T12:09:50.390903Z"
    }
   }
  },
  {
   "cell_type": "code",
   "execution_count": 29,
   "outputs": [],
   "source": [
    "def _update_income_summary(month_id):\n",
    "\n",
    "    income = income_table(month_id)\n",
    "    paycheck = income.set_index('Type').loc['Paycheck', 'Amount']\n",
    "\n",
    "    taxes = income.Amount.sum() - paycheck\n",
    "    taxes_str = ''\n",
    "    for idx, row in income.iterrows():\n",
    "        taxes_str += f'{row.Type}: £{abs(row.Amount):.2f},<br>'\n",
    "\n",
    "    summary, _, monthly_spending = summary_table(month_id, total_row=False)\n",
    "\n",
    "    df_budget = query_db('budget', month_id)\n",
    "    bills = -df_budget.loc[df_budget.Category=='Bills', 'Budget'].sum()/100\n",
    "\n",
    "    fig = go.Figure()\n",
    "\n",
    "    fig.add_trace(\n",
    "        go.Indicator(\n",
    "            mode=\"number+delta\",\n",
    "            value=paycheck,\n",
    "            title={'text': 'paycheck', 'align': 'left', 'font': {'size': 20}},\n",
    "            number={'prefix': '£', 'valueformat': ',.2f'},\n",
    "            delta={'position': 'right', 'reference': 0, 'prefix': '£', 'valueformat': ',.2f'},\n",
    "            domain={'x': [0.1, 0.9], 'y': [0.8, 0.9]}))\n",
    "\n",
    "    fig.add_trace(\n",
    "        go.Indicator(\n",
    "            mode=\"number+delta\",\n",
    "            value=abs(taxes),\n",
    "            title={'text': 'taxes', 'align': 'left', 'font': {'size': 20}},\n",
    "            number={'prefix': '£', 'valueformat': ',.2f'},\n",
    "            delta={'position': 'right', 'reference': -(paycheck + 2 * taxes), 'prefix': '£', 'valueformat': ',.2f'},\n",
    "            domain={'x': [0.1, 0.9], 'y': [0.55, 0.65]}))\n",
    "\n",
    "    fig.add_trace(\n",
    "        go.Indicator(\n",
    "            mode=\"number+delta\",\n",
    "            value=abs(bills),\n",
    "            title={'text': 'bills', 'align': 'left', 'font': {'size': 20}},\n",
    "            number={'prefix': '£', 'valueformat': ',.2f'},\n",
    "            delta={'position': 'right', 'reference': -(paycheck + taxes + 2 * bills), 'prefix': '£',\n",
    "                   'valueformat': ',.2f'},\n",
    "            domain={'x': [0.1, 0.9], 'y': [0.3, 0.4]}))\n",
    "\n",
    "    fig.add_trace(\n",
    "        go.Indicator(\n",
    "            mode=\"number+delta\",\n",
    "            value=abs(monthly_spending),\n",
    "            title={'text': 'spending', 'align': 'left', 'font': {'size': 20}},\n",
    "            number={'prefix': '£', 'valueformat': ',.2f'},  # font\n",
    "            delta={'position': 'right', 'reference': -(paycheck + taxes + bills + 2 * monthly_spending), 'prefix': '£',\n",
    "                   'valueformat': ',.2f'},\n",
    "            domain={'x': [0.1, 0.9], 'y': [0.05, 0.15]}))\n",
    "\n",
    "    fig.add_annotation(x=0.49, y=0.6,\n",
    "                       text='               ',\n",
    "                       hovertext=taxes_str,\n",
    "                       showarrow=False)\n",
    "\n",
    "    fig.update_layout(height=340,\n",
    "                      margin=dict(t=5, l=5, r=5, b=5)\n",
    "                      )\n",
    "\n",
    "    return fig"
   ],
   "metadata": {
    "collapsed": false,
    "ExecuteTime": {
     "start_time": "2023-08-04T12:09:50.274361Z",
     "end_time": "2023-08-04T12:09:50.399853Z"
    }
   }
  },
  {
   "cell_type": "markdown",
   "source": [
    "## 3. INVESTMENTS SUMMARY"
   ],
   "metadata": {
    "collapsed": false
   }
  },
  {
   "cell_type": "code",
   "execution_count": 30,
   "outputs": [],
   "source": [
    "def investments_summary():\n",
    "    return dcc.Graph(id='investments', figure={})"
   ],
   "metadata": {
    "collapsed": false,
    "ExecuteTime": {
     "start_time": "2023-08-04T12:09:50.281869Z",
     "end_time": "2023-08-04T12:09:50.399853Z"
    }
   }
  },
  {
   "cell_type": "code",
   "execution_count": 31,
   "outputs": [],
   "source": [
    "def _update_investments_summary(month_id):\n",
    "\n",
    "    dt_month_id_prev = datetime.strptime(month_id.lower(), '%b %y') - pd.DateOffset(months=1)\n",
    "    month_id_prev = datetime.strftime(dt_month_id_prev, '%b %y').upper()\n",
    "\n",
    "    _, liquidity = accounts_table(month_id)\n",
    "    _, liquidity_prev = accounts_table(month_id_prev)\n",
    "\n",
    "    inv_var, inv_fix, net_worth = investment_tables(month_id, liquidity)\n",
    "    inv_var_prev, inv_fix_prev, net_worth_prev = investment_tables(month_id_prev, liquidity)\n",
    "\n",
    "    fig = go.Figure()\n",
    "\n",
    "    fig.add_trace(\n",
    "        go.Indicator(\n",
    "            mode=\"number+delta\",\n",
    "            value=liquidity,\n",
    "            title={'text': 'liquidity', 'align': 'left', 'font': {'size': 20}},\n",
    "            number={'prefix': '£', 'valueformat': ',.2f'},\n",
    "            delta={'position': 'right', 'reference': liquidity_prev, 'prefix': '£', 'valueformat': ',.2f'},\n",
    "            domain={'x': [0.1, 0.9], 'y': [0.8, 0.9]}))\n",
    "\n",
    "    fig.add_trace(\n",
    "        go.Indicator(\n",
    "            mode=\"number+delta\",\n",
    "            value=inv_fix.Amount.sum(),\n",
    "            title={'text': 'fixed investments', 'align': 'left', 'font': {'size': 20}},\n",
    "            number={'prefix': '£', 'valueformat': ',.2f'},\n",
    "            delta={'position': 'right', 'reference': inv_fix_prev.Amount.sum(), 'prefix': '£', 'valueformat': ',.2f'},\n",
    "            domain={'x': [0.1, 0.9], 'y': [0.55, 0.65]}))\n",
    "\n",
    "    fig.add_trace(\n",
    "        go.Indicator(\n",
    "            mode=\"number+delta\",\n",
    "            value=inv_var.Value.sum(),\n",
    "            title={'text': 'variable investments', 'align': 'left', 'font': {'size': 20}},\n",
    "            number={'prefix': '£', 'valueformat': ',.2f'},\n",
    "            delta={'position': 'right', 'reference': inv_var_prev.Value.sum(), 'prefix': '£', 'valueformat': ',.2f'},\n",
    "            domain={'x': [0.1, 0.9], 'y': [0.3, 0.4]}))\n",
    "\n",
    "    fig.add_trace(\n",
    "        go.Indicator(\n",
    "            mode=\"number+delta\",\n",
    "            value=net_worth,\n",
    "            title={'text': 'net worth', 'align': 'left', 'font': {'size': 20}},\n",
    "            number={'prefix': '£', 'valueformat': ',.2f'},  # font\n",
    "            delta={'position': 'right', 'reference': net_worth_prev, 'prefix': '£', 'valueformat': ',.2f'},\n",
    "            domain={'x': [0.1, 0.9], 'y': [0.05, 0.15]}))\n",
    "\n",
    "    fig.update_layout(height=340,\n",
    "                      margin=dict(t=5, l=5, r=5, b=5), )\n",
    "\n",
    "    return fig"
   ],
   "metadata": {
    "collapsed": false,
    "ExecuteTime": {
     "start_time": "2023-08-04T12:09:50.290563Z",
     "end_time": "2023-08-04T12:09:50.399853Z"
    }
   }
  },
  {
   "cell_type": "markdown",
   "source": [
    "## 4. BAR CHART OF SPENDING"
   ],
   "metadata": {
    "collapsed": false
   }
  },
  {
   "cell_type": "code",
   "execution_count": 32,
   "outputs": [],
   "source": [
    "def bar_chart():\n",
    "    return html.Div([\n",
    "        dbc.Row([\n",
    "            dbc.Col([\n",
    "                dcc.RadioItems(id='bar_plot_radio_item',\n",
    "                               options=[{'label': 'Category ', 'value': 'Category'},\n",
    "                                        {'label': 'Subategory ', 'value': 'Subcategory'}],\n",
    "                               value='Subcategory',\n",
    "                               inline=True),\n",
    "                    ], width=6),\n",
    "            dbc.Col([\n",
    "                dcc.Checklist(id='bar_plot_checklist',\n",
    "                              options=[{'label': 'Hide Empty', 'value': True}],\n",
    "                              value=[True]),\n",
    "                    ], width=6),\n",
    "            ]),\n",
    "\n",
    "            dcc.Graph(figure={},\n",
    "                      id='bar_plot'),\n",
    "            # TODO: html.H6('This plot excludes the categories income and bills')\n",
    "    ])"
   ],
   "metadata": {
    "collapsed": false,
    "ExecuteTime": {
     "start_time": "2023-08-04T12:09:50.300804Z",
     "end_time": "2023-08-04T12:09:50.399853Z"
    }
   }
  },
  {
   "cell_type": "code",
   "execution_count": 33,
   "outputs": [],
   "source": [
    "def _update_bar_chart(sub_category, hide_zeros, month_id):\n",
    "\n",
    "    df, _, _ = summary_table(month_id, total_row=False)\n",
    "    df = df[~df.Subcategory.isin(['Income', 'Bills'])]\n",
    "    df.Total = -df.Total\n",
    "\n",
    "    if hide_zeros:\n",
    "        df = df[df.Total != 0]\n",
    "\n",
    "    bar_fig = go.Figure(data=[\n",
    "        go.Bar(name='Total',\n",
    "               x=df[sub_category],\n",
    "               y=df.Total,\n",
    "               # TODO: how can I get it display subcategories in hovertemplate when grouped by category?\n",
    "               # TODO: how can I add category total  in hovertemplate when grouped by category? Do this with a scatterplot?\n",
    "               hovertemplate='%{x}<br>Spent: £%{y:.2f}',\n",
    "               marker=dict(color=df[\"Subcategory\"].apply(lambda x: subcategory_palette[x])),\n",
    "               showlegend=False,\n",
    "               # TODO: display diff to quantify how under/over budget we are (color coded if possible)\n",
    "               # texttemplate='%{text:.2f}',\n",
    "               # textposition='outside'\n",
    "               ),\n",
    "        go.Bar(name='Budget',\n",
    "               x=df[sub_category],\n",
    "               y=df.Budget,\n",
    "               marker=dict(color='#D3D3D3'),\n",
    "               hovertemplate='%{x}<br>Budget: £%{y:.2f}')\n",
    "    ])\n",
    "\n",
    "    bar_fig.update_layout(barmode='group',\n",
    "                          legend=dict(yanchor=\"top\", y=0.99, xanchor=\"right\", x=0.99),\n",
    "                          margin=dict(t=5, l=5, r=5, b=2),\n",
    "                          height=350)\n",
    "\n",
    "    bar_fig.update_yaxes(tickprefix='£')\n",
    "    bar_fig.update_xaxes(tickangle=45)\n",
    "\n",
    "    return bar_fig"
   ],
   "metadata": {
    "collapsed": false,
    "ExecuteTime": {
     "start_time": "2023-08-04T12:09:50.309431Z",
     "end_time": "2023-08-04T12:09:50.400422Z"
    }
   }
  },
  {
   "cell_type": "markdown",
   "source": [
    "## 5. ALL SPENDING TABLE"
   ],
   "metadata": {
    "collapsed": false
   }
  },
  {
   "cell_type": "code",
   "execution_count": 34,
   "outputs": [],
   "source": [
    "def all_spending_table():\n",
    "    return dash_table.DataTable(\n",
    "                id='all_spending_table',\n",
    "                # data=spending.to_dict('records'),\n",
    "                fixed_rows={'headers': True},\n",
    "                style_table={'height': 150},\n",
    "                # TODO: reduce row height\n",
    "                # css=[{\"selector\": \".dash-spreadsheet tr th\", \"rule\": \"height: 20px;\"},  # set height of header\n",
    "                #      {\"selector\": \".dash-spreadsheet tr td\", \"rule\": \"height: 10px;\"}],  # set height of body rows\n",
    "                columns=[\n",
    "                    {'id':'Date', 'name':'Date'},\n",
    "                    {'id':'Subcategory', 'name':'Subcategory'},\n",
    "                    {'id':'Name', 'name':'Name'},\n",
    "                    {'id':'Description', 'name':'Description'},\n",
    "                    {'id':'In', 'name':'In', 'type':'numeric', 'format':money},\n",
    "                    {'id':'Out', 'name':'Out', 'type':'numeric', 'format':money},\n",
    "                    {'id':'Balance', 'name':'Balance', 'type':'numeric', 'format':money}],\n",
    "                sort_action='native',\n",
    "                style_cell={'overflow': 'hidden',\n",
    "                            'textOverflow': 'ellipsis',\n",
    "                            'maxWidth': 0,\n",
    "                            'font_size': '15px'},\n",
    "                #tooltip_data=[{column: {'value': str(value), 'type': 'markdown'} for column, value in row.items() if column in ['Description', 'Name']}\n",
    "                #              for row in spending.to_dict('records')],\n",
    "                style_cell_conditional=[{'if': {'column_id': 'Date'}, 'width': '8%', 'textAlign':'left'},\n",
    "                                        {'if': {'column_id': 'Subcategory'},'width': '15%', 'textAlign':'left'},\n",
    "                                        {'if': {'column_id': 'Name'},'width': '16%', 'textAlign':'left'},\n",
    "                                        {'if': {'column_id': 'Description'},'width': '26%', 'textAlign':'left'},\n",
    "                                        {'if': {'column_id': 'In'},'width': '11%'},\n",
    "                                        {'if': {'column_id': 'Out'},'width': '11%'},\n",
    "                                        {'if': {'column_id': 'Balance'},'width': '13%'}],\n",
    "                style_data_conditional=[{'if': {'filter_query': '{In} > 0', 'column_id':'In'}, 'color':'green'},\n",
    "                                        {'if': {'filter_query': '{Out} > 0', 'column_id':'Out'}, 'color':'red'}],\n",
    "            )"
   ],
   "metadata": {
    "collapsed": false,
    "ExecuteTime": {
     "start_time": "2023-08-04T12:09:50.318725Z",
     "end_time": "2023-08-04T12:09:50.400422Z"
    }
   }
  },
  {
   "cell_type": "code",
   "execution_count": 35,
   "outputs": [],
   "source": [
    "def _update_all_spending_table(month_id):\n",
    "    spending = spending_table(month_id, dd_mm=True)\n",
    "    return spending.to_dict('records')"
   ],
   "metadata": {
    "collapsed": false,
    "ExecuteTime": {
     "start_time": "2023-08-04T12:09:50.328830Z",
     "end_time": "2023-08-04T12:09:50.400422Z"
    }
   }
  },
  {
   "cell_type": "markdown",
   "source": [
    "## 6. SPENDING TIMELINE CHART"
   ],
   "metadata": {
    "collapsed": false
   }
  },
  {
   "cell_type": "code",
   "execution_count": 36,
   "outputs": [],
   "source": [
    "def timeline_chart():\n",
    "    return html.Div([\n",
    "        dcc.Graph(id='timeline_chart',\n",
    "                  figure={}),\n",
    "        # TODO: html.H6('This plot excludes subcategories transfers and bills')\n",
    "    ])"
   ],
   "metadata": {
    "collapsed": false,
    "ExecuteTime": {
     "start_time": "2023-08-04T12:09:50.337275Z",
     "end_time": "2023-08-04T12:09:50.400422Z"
    }
   }
  },
  {
   "cell_type": "code",
   "execution_count": 37,
   "outputs": [],
   "source": [
    "def _update_timeline_chart(month_id):\n",
    "\n",
    "    df = spending_table(month_id, dd_mm=False)\n",
    "\n",
    "    _, monthly_budget, _ = summary_table(month_id, total_row=True)\n",
    "\n",
    "    start_d = df.Date[0]\n",
    "    weekday, month_length = calendar.monthrange(start_d.year, start_d.month)\n",
    "\n",
    "    dates = [datetime(start_d.year, start_d.month, day, 0, 0) for day in range(1, month_length + 1)]\n",
    "    dates.append(datetime(start_d.year, start_d.month, month_length, 23, 59))\n",
    "\n",
    "    daily_spend = monthly_budget / (len(dates) - 1)\n",
    "\n",
    "    fig = go.Figure()\n",
    "\n",
    "    fig.add_trace(\n",
    "        go.Scatter(name='Spending',\n",
    "                   x=df.Date,\n",
    "                   y=df.Balance,\n",
    "                   hovertemplate='£%{y:.2f}'))\n",
    "\n",
    "    fig.add_trace(\n",
    "        go.Scatter(name='Budget',\n",
    "                   x=dates,\n",
    "                   y=np.arange(monthly_budget, -daily_spend, -daily_spend),\n",
    "                   line={'color': 'green', 'dash': 'dash'},\n",
    "                   hovertemplate='£%{y:.2f}'\n",
    "                   ))\n",
    "\n",
    "    if df.Balance.iloc[-1] >= 0:\n",
    "        fig.add_annotation(x=dates[-3], y=monthly_budget * 0.9,\n",
    "                           text=\"Left to spend:\",\n",
    "                           showarrow=False)\n",
    "        fig.add_annotation(x=dates[-3], y=monthly_budget * 0.8,\n",
    "                           text=f'£{df.Balance.iloc[-1]:.2f}',\n",
    "                           showarrow=False)\n",
    "    else:\n",
    "        fig.add_annotation(x=dates[-3], y=monthly_budget * 0.9,\n",
    "                           text=\"Over budget\",\n",
    "                           showarrow=False)\n",
    "        fig.add_annotation(x=dates[-3], y=monthly_budget * 0.8,\n",
    "                           text=f'-£{-df.Balance.iloc[-1]:.2f}',\n",
    "                           showarrow=False)\n",
    "\n",
    "    fig.update_layout(hovermode='x',\n",
    "                      showlegend=False,\n",
    "                      margin=dict(t=5, l=5, r=5, b=5),\n",
    "                      height=281)\n",
    "\n",
    "    fig.update_yaxes(range=[df.Balance.min(), monthly_budget + 5],\n",
    "                     tickmode='array',\n",
    "                     tickvals=[0, monthly_budget],\n",
    "                     showgrid=False,\n",
    "                     tickprefix='£')\n",
    "\n",
    "    fig.update_xaxes(tickmode='array',\n",
    "                     tickvals=[dates[0], dates[-1]])\n",
    "\n",
    "    return fig"
   ],
   "metadata": {
    "collapsed": false,
    "ExecuteTime": {
     "start_time": "2023-08-04T12:09:50.346370Z",
     "end_time": "2023-08-04T12:09:50.400422Z"
    }
   }
  },
  {
   "cell_type": "markdown",
   "source": [
    "## 7. SUNBURST CHART"
   ],
   "metadata": {
    "collapsed": false
   }
  },
  {
   "cell_type": "code",
   "execution_count": 38,
   "outputs": [],
   "source": [
    "def sunburst_chart():\n",
    "    return html.Div([\n",
    "        dcc.RadioItems(id='sunburst_radio_item',\n",
    "                       options=[{'label':'Spending', 'value':'Total'},\n",
    "                                {'label':'Budget', 'value':'Budget'}],\n",
    "                       value='Total',\n",
    "                       inline=True),\n",
    "        dcc.Graph(id='sunburst',\n",
    "                  figure={}),\n",
    "        # TODO: html.H6('This plot excludes the categories income and bills')\n",
    "    ])"
   ],
   "metadata": {
    "collapsed": false,
    "ExecuteTime": {
     "start_time": "2023-08-04T12:09:50.355999Z",
     "end_time": "2023-08-04T12:09:50.400422Z"
    }
   }
  },
  {
   "cell_type": "code",
   "execution_count": 39,
   "outputs": [],
   "source": [
    "def _update_sunburst_chart(spend_budget, month_id):\n",
    "\n",
    "    df, monthly_budget, monthly_spending = summary_table(month_id, total_row=False)\n",
    "    df = df[~df.Subcategory.isin(['Income', 'Bills'])]\n",
    "    df.Total = -df.Total\n",
    "\n",
    "    labels = ['Total']\n",
    "    parents = ['']\n",
    "    if spend_budget == 'Total':\n",
    "        values = [monthly_spending * -1]\n",
    "    else:\n",
    "        values = [monthly_budget]\n",
    "\n",
    "    for cat in df.Category.unique():\n",
    "        labels.append(cat + ' ')\n",
    "        parents.append('Total')\n",
    "        values.append(df[df.Category == cat][spend_budget].sum())\n",
    "\n",
    "        if cat not in ['Holidays', 'Entertainment']:\n",
    "            for subcat in df[df.Category == cat].Subcategory.unique():\n",
    "                labels.append(subcat)\n",
    "                parents.append(cat + ' ')\n",
    "                values.append(df[df.Subcategory == subcat][spend_budget].sum())\n",
    "\n",
    "    # Create sunburst plot\n",
    "    sunburst = go.Figure(\n",
    "        go.Sunburst(\n",
    "            name='Sunburst',\n",
    "            labels=labels,\n",
    "            parents=parents,\n",
    "            values=values,\n",
    "            branchvalues='total',  # not column name Total\n",
    "            # TODO can I add % of total spend to the hover? So it can double as a pie chart\n",
    "            # hovertemplate='%{label}<br>£%{value:.2f} (%{value/values[0]}%)',\n",
    "            hovertemplate='%{label}<br>£%{value:.2f}',\n",
    "            marker=dict(colors=pd.Series(labels).apply(lambda x: subcategory_palette[x]))\n",
    "        )\n",
    "    )\n",
    "\n",
    "    # Set plot title\n",
    "    sunburst.update_layout(margin=dict(t=5, l=0, r=0, b=5),\n",
    "                           height=350)\n",
    "\n",
    "    return sunburst"
   ],
   "metadata": {
    "collapsed": false,
    "ExecuteTime": {
     "start_time": "2023-08-04T12:09:50.364115Z",
     "end_time": "2023-08-04T12:09:50.400422Z"
    }
   }
  },
  {
   "cell_type": "markdown",
   "source": [
    "## 8. SPENDING BY SUBCATEGORY TABLE"
   ],
   "metadata": {
    "collapsed": false
   }
  },
  {
   "cell_type": "code",
   "execution_count": 40,
   "outputs": [],
   "source": [
    "def spending_by_subcategory():\n",
    "    return dash_table.DataTable(\n",
    "        id='spending_by_subcategory_table',\n",
    "        # data=df.drop('Category', axis=1).to_dict('records'),\n",
    "        columns=[{'id':'Subcategory', 'name':'Subcategory'},\n",
    "                 {'id':'In', 'name':'In', 'type':'numeric', 'format': money},\n",
    "                 {'id':'Out', 'name':'Out', 'type':'numeric', 'format': money},\n",
    "                 {'id':'Total', 'name':'Total', 'type':'numeric', 'format': money},\n",
    "                 {'id':'Budget', 'name':'Budget', 'type':'numeric', 'format': money},\n",
    "                 {'id':'Diff.', 'name':'Diff.', 'type':'numeric', 'format': money}],\n",
    "        style_cell={'font_size': '15px'},\n",
    "        style_cell_conditional=[{'if': {'column_id': 'Subcategory'}, 'width': '25%', 'textAlign':'left'},\n",
    "                                {'if': {'column_id': 'In'},'width': '15%'},\n",
    "                                {'if': {'column_id': 'Out'},'width': '15%'},\n",
    "                                {'if': {'column_id': 'Total'},'width': '15%'},\n",
    "                                {'if': {'column_id': 'Budget'},'width': '15%'},\n",
    "                                {'if': {'column_id': 'Diff.'},'width': '15%'}],\n",
    "        style_data_conditional=[{'if': {'filter_query': '{Diff.} > 0', 'column_id':'Diff.'}, 'color':'green'},\n",
    "                                {'if': {'filter_query': '{Diff.} < 0', 'column_id':'Diff.'}, 'color':'red'},\n",
    "                                # there must be a way to do this with a colour mapping\n",
    "                                {'if': {'filter_query': '{Subcategory} = Income', 'column_id':'Subcategory'}, 'color':'green'},\n",
    "                                #{'if': {'filter_query': '{Subcategory} = Transport', 'column_id':'Subcategory'}, 'color':subcategory_palette['Transport']},\n",
    "                                #{'if': {'filter_query': '{Subcategory} = Car', 'column_id':'Subcategory'}, 'color':subcategory_palette['Car']},\n",
    "                                #{'if': {'filter_query': '{Subcategory} = Groceries', 'column_id':'Subcategory'}, 'color':subcategory_palette['Groceries']},\n",
    "                                #{'if': {'filter_query': '{Subcategory} = Snacks', 'column_id':'Subcategory'}, 'color':subcategory_palette['Snacks']},\n",
    "                                #{'if': {'filter_query': '{Subcategory} = Lunch', 'column_id':'Subcategory'}, 'color':subcategory_palette['Lunch']},\n",
    "                                #{'if': {'filter_query': '{Subcategory} = Eating out', 'column_id':'Subcategory'}, 'color':subcategory_palette['Eating out']},\n",
    "                                #{'if': {'filter_query': '{Subcategory} = Alcohol', 'column_id':'Subcategory'}, 'color':subcategory_palette['Alcohol']},\n",
    "                                #{'if': {'filter_query': '{Subcategory} = Shopping', 'column_id':'Subcategory'}, 'color':subcategory_palette['Shopping']},\n",
    "                                #{'if': {'filter_query': '{Subcategory} = Clothes', 'column_id':'Subcategory'}, 'color':subcategory_palette['Clothes']},\n",
    "                                #{'if': {'filter_query': '{Subcategory} = Electronics', 'column_id':'Subcategory'}, 'color':subcategory_palette['Electronics']},\n",
    "                                #{'if': {'filter_query': '{Subcategory} = Personal care', 'column_id':'Subcategory'}, 'color':subcategory_palette['Personal care']},\n",
    "                                #{'if': {'filter_query': '{Subcategory} = Gifts', 'column_id':'Subcategory'}, 'color':subcategory_palette['Gifts']},\n",
    "                                #{'if': {'filter_query': '{Subcategory} = Entertainment', 'column_id':'Subcategory'}, 'color':subcategory_palette['Entertainment']},\n",
    "                                #{'if': {'filter_query': '{Subcategory} = Holidays', 'column_id':'Subcategory'}, 'color':subcategory_palette['Holidays']},\n",
    "                                #{'if': {'filter_query': '{Subcategory} = TOTAL', 'column_id':'Subcategory'}, 'color':'black'},\n",
    "                                ],\n",
    "        page_size=20)"
   ],
   "metadata": {
    "collapsed": false,
    "ExecuteTime": {
     "start_time": "2023-08-04T12:09:50.373275Z",
     "end_time": "2023-08-04T12:09:50.400422Z"
    }
   }
  },
  {
   "cell_type": "code",
   "execution_count": 41,
   "outputs": [],
   "source": [
    "def _update_spending_by_subcategory(month_id):\n",
    "    df, _, _ = summary_table(month_id, total_row=False)\n",
    "    return df.drop('Category', axis=1).to_dict('records')"
   ],
   "metadata": {
    "collapsed": false,
    "ExecuteTime": {
     "start_time": "2023-08-04T12:09:50.385186Z",
     "end_time": "2023-08-04T12:09:50.400422Z"
    }
   }
  },
  {
   "cell_type": "markdown",
   "source": [
    "# MONTHLY DASHBOARD"
   ],
   "metadata": {
    "collapsed": false
   }
  },
  {
   "cell_type": "code",
   "execution_count": 42,
   "outputs": [],
   "source": [
    "def monthly_dashboard():\n",
    "    return html.Div([\n",
    "        dbc.Row([\n",
    "\n",
    "            dbc.Col([\n",
    "                # 1. MONTH TITLE\n",
    "                dbc.Card(dbc.CardBody(html.Div([monthly_title()])), style={\"margin-bottom\": \"1rem\", \"margin-top\": \"1rem\", \"margin-left\": \"1rem\"}),\n",
    "                # 2. INCOME SUMMARY\n",
    "                dbc.Card(dbc.CardBody(html.Div([income_summary()])), style={\"margin-bottom\": \"1rem\", \"margin-left\": \"1rem\"}),\n",
    "                # 3. INVESTMENTS SUMMARY\n",
    "                dbc.Card(dbc.CardBody(html.Div([investments_summary()])), style={\"margin-bottom\": \"1rem\", \"margin-left\": \"1rem\"}),\n",
    "            ], width=3),\n",
    "\n",
    "            dbc.Col([\n",
    "                # 4. SPENDING BAR PLOT\n",
    "                dbc.Card(dbc.CardBody([html.Div([bar_chart()])]), style={\"margin-bottom\": \"1rem\", \"margin-top\": \"1rem\"}),\n",
    "                # 5. ALL SPENDING DATA TABLE\n",
    "                dbc.Card(html.Div([all_spending_table()]), style={\"margin-bottom\": \"1rem\"}),\n",
    "                # 6. SPENDING OVER THE MONTH\n",
    "                dbc.Card(dbc.CardBody(html.Div([timeline_chart()])), style={\"margin-bottom\": \"1rem\"})\n",
    "            ], width=5),\n",
    "\n",
    "            dbc.Col([\n",
    "                # 7. SUNBURST PLOT OF SPENDING/BUDGET\n",
    "                dbc.Card(dbc.CardBody(html.Div([sunburst_chart()])), style={\"margin-bottom\": \"1rem\", \"margin-right\": \"1rem\", \"margin-top\": \"1rem\"}),\n",
    "                # 8. SPENDING BY SUBCATEGORY\n",
    "                dbc.Card(html.Div([spending_by_subcategory()]), style={\"margin-bottom\": \"1rem\", \"margin-right\": \"1rem\"}),\n",
    "            ], width=4),\n",
    "        ]),\n",
    "    ])\n"
   ],
   "metadata": {
    "collapsed": false,
    "ExecuteTime": {
     "start_time": "2023-08-04T12:09:50.390903Z",
     "end_time": "2023-08-04T12:09:50.400422Z"
    }
   }
  },
  {
   "cell_type": "code",
   "execution_count": 43,
   "outputs": [],
   "source": [
    "def historic_dashboard():\n",
    "    return html.Div([\n",
    "        html.H1('Historic Dashboard: Work in Progress')\n",
    "    ])"
   ],
   "metadata": {
    "collapsed": false,
    "ExecuteTime": {
     "start_time": "2023-08-04T12:09:50.400422Z",
     "end_time": "2023-08-04T12:09:50.487703Z"
    }
   }
  },
  {
   "cell_type": "code",
   "execution_count": 44,
   "outputs": [],
   "source": [
    "def investments_dashboard():\n",
    "    return html.Div([\n",
    "        html.H1('Investments Dashboard: Work in Progress')\n",
    "    ])"
   ],
   "metadata": {
    "collapsed": false,
    "ExecuteTime": {
     "start_time": "2023-08-04T12:09:50.411288Z",
     "end_time": "2023-08-04T12:09:50.487703Z"
    }
   }
  },
  {
   "cell_type": "code",
   "execution_count": 45,
   "outputs": [],
   "source": [
    "def add_tabs():\n",
    "    return dbc.Row([\n",
    "        dcc.Tabs(id='dashboard_selection_tabs',\n",
    "                 value='monthly_tab',\n",
    "                 children=[\n",
    "                     dcc.Tab(label='Monthly', value='monthly_tab'),\n",
    "                     dcc.Tab(label='Historic', value='historic_tab'),\n",
    "                     dcc.Tab(label='Investments', value='investments_tab')]\n",
    "                 )\n",
    "    ])"
   ],
   "metadata": {
    "collapsed": false,
    "ExecuteTime": {
     "start_time": "2023-08-04T12:09:50.420156Z",
     "end_time": "2023-08-04T12:09:50.487703Z"
    }
   }
  },
  {
   "cell_type": "code",
   "execution_count": 46,
   "outputs": [],
   "source": [
    "def _tab_selection(tab):\n",
    "    if tab == 'monthly_tab':\n",
    "        return monthly_dashboard()\n",
    "    elif tab == 'historic_tab':\n",
    "        return historic_dashboard()\n",
    "    elif tab == 'investments_tab':\n",
    "        return investments_dashboard()"
   ],
   "metadata": {
    "collapsed": false,
    "ExecuteTime": {
     "start_time": "2023-08-04T12:09:50.429060Z",
     "end_time": "2023-08-04T12:09:50.487703Z"
    }
   }
  },
  {
   "cell_type": "code",
   "execution_count": 47,
   "outputs": [],
   "source": [
    "def my_dashboard():\n",
    "    pio.templates.default = \"plotly\"\n",
    "\n",
    "    app = JupyterDash(external_stylesheets=[dbc.themes.COSMO], suppress_callback_exceptions=True)\n",
    "    # suppressed callback exceptions because ids of plots aren't give inn app.layout due to being called from add_tabs() function.\n",
    "    # app = Dash(external_stylesheets=[dbc.themes.COSMO])\n",
    "\n",
    "    app.layout = html.Div([\n",
    "        add_tabs(),\n",
    "        html.Div(id='selected_tab'),\n",
    "        ],\n",
    "    className='dbc')\n",
    "\n",
    "    @app.callback(\n",
    "        Output('selected_tab', 'children'),\n",
    "        Input('dashboard_selection_tabs', 'value')\n",
    "    )\n",
    "    def tab_selection(tab):\n",
    "        return _tab_selection(tab)\n",
    "\n",
    "    # 2. INCOME SUMMARY\n",
    "    @app.callback(\n",
    "        Output(component_id='income', component_property='figure'),\n",
    "        Input(component_id='month_selection', component_property='value')\n",
    "    )\n",
    "    def update_income_summary(month_id):\n",
    "        return _update_income_summary(month_id)\n",
    "\n",
    "    # 3. INVESTMENTS SUMMARY\n",
    "    @app.callback(\n",
    "        Output(component_id='investments', component_property='figure'),\n",
    "        Input(component_id='month_selection', component_property='value')\n",
    "    )\n",
    "    def update_investments_summary(month_id):\n",
    "        return _update_investments_summary(month_id)\n",
    "\n",
    "    # 4. BAR CHART OF SPENDING\n",
    "    @app.callback(\n",
    "        Output(component_id='bar_plot', component_property='figure'),\n",
    "        Input(component_id='bar_plot_radio_item', component_property='value'),\n",
    "        Input(component_id='bar_plot_checklist', component_property='value'),\n",
    "        Input(component_id='month_selection', component_property='value')\n",
    "    )\n",
    "    def update_bar_plot(sub_category, hide_zeros, month_id):\n",
    "        return _update_bar_chart(sub_category, hide_zeros, month_id)\n",
    "\n",
    "    # 5. ALL SPENDING DATA TABLE\n",
    "    @app.callback(\n",
    "        Output(component_id='all_spending_table', component_property='data'),\n",
    "        Input(component_id='month_selection', component_property='value')\n",
    "    )\n",
    "    def update_all_spending_table(month_id):\n",
    "        return _update_all_spending_table(month_id)\n",
    "\n",
    "    # 6. SPENDING TIMELINE CHART\n",
    "    @app.callback(\n",
    "        Output(component_id='timeline_chart', component_property='figure'),\n",
    "        Input(component_id='month_selection', component_property='value')\n",
    "    )\n",
    "    def update_timeline_chart(month_id):\n",
    "        return _update_timeline_chart(month_id)\n",
    "\n",
    "    # 7. SUNBURST CHART\n",
    "\n",
    "    @app.callback(\n",
    "        Output(component_id='sunburst', component_property='figure'),\n",
    "        Input(component_id='sunburst_radio_item', component_property='value'),\n",
    "        Input(component_id='month_selection', component_property='value')\n",
    "    )\n",
    "    def update_sunburst_plot(spend_budget, month_id):\n",
    "        return _update_sunburst_chart(spend_budget, month_id)\n",
    "\n",
    "    # 8. SPENDING BY SUBCATEGORY TABLE\n",
    "    @app.callback(\n",
    "        Output(component_id='spending_by_subcategory_table', component_property='data'),\n",
    "        Input(component_id='month_selection', component_property='value')\n",
    "    )\n",
    "    def update_spending_by_subcategory(month_id):\n",
    "        return _update_spending_by_subcategory(month_id)\n",
    "\n",
    "    app.run_server()"
   ],
   "metadata": {
    "collapsed": false,
    "ExecuteTime": {
     "start_time": "2023-08-04T12:09:50.439572Z",
     "end_time": "2023-08-04T12:09:50.487703Z"
    }
   }
  },
  {
   "cell_type": "code",
   "execution_count": 48,
   "outputs": [
    {
     "name": "stdout",
     "output_type": "stream",
     "text": [
      "Dash is running on http://127.0.0.1:8050/\n",
      "\n"
     ]
    },
    {
     "name": "stderr",
     "output_type": "stream",
     "text": [
      "\u001B[32m2023-08-04 12:09:50\u001B[0m \u001B[35mLT-0032\u001B[0m \u001B[34mdash.dash[28208]\u001B[0m \u001B[1;30mINFO\u001B[0m Dash is running on http://127.0.0.1:8050/\n",
      "\n"
     ]
    },
    {
     "name": "stdout",
     "output_type": "stream",
     "text": [
      "Dash app running on http://127.0.0.1:8050/\n"
     ]
    }
   ],
   "source": [
    "my_dashboard()"
   ],
   "metadata": {
    "collapsed": false,
    "ExecuteTime": {
     "start_time": "2023-08-04T12:09:50.448158Z",
     "end_time": "2023-08-04T12:09:51.066629Z"
    }
   }
  },
  {
   "cell_type": "code",
   "execution_count": 48,
   "outputs": [],
   "source": [],
   "metadata": {
    "collapsed": false,
    "ExecuteTime": {
     "start_time": "2023-08-04T12:09:51.063120Z",
     "end_time": "2023-08-04T12:09:51.066629Z"
    }
   }
  }
 ],
 "metadata": {
  "kernelspec": {
   "display_name": "Python 3",
   "language": "python",
   "name": "python3"
  },
  "language_info": {
   "codemirror_mode": {
    "name": "ipython",
    "version": 2
   },
   "file_extension": ".py",
   "mimetype": "text/x-python",
   "name": "python",
   "nbconvert_exporter": "python",
   "pygments_lexer": "ipython2",
   "version": "2.7.6"
  }
 },
 "nbformat": 4,
 "nbformat_minor": 0
}
